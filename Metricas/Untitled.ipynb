{
 "cells": [
  {
   "cell_type": "markdown",
   "metadata": {},
   "source": [
    "# Importações Necessárias"
   ]
  },
  {
   "cell_type": "code",
   "execution_count": 1,
   "metadata": {},
   "outputs": [],
   "source": [
    "import numpy as np;\n",
    "import pandas as pd;"
   ]
  },
  {
   "cell_type": "markdown",
   "metadata": {},
   "source": [
    "# Parâmetros de Entrada"
   ]
  },
  {
   "cell_type": "code",
   "execution_count": 2,
   "metadata": {},
   "outputs": [],
   "source": [
    "baseDados = \"BPressureNishiBook.dat\";\n",
    "baseRegras = \"BPressureNishiBook.txt\";"
   ]
  },
  {
   "cell_type": "markdown",
   "metadata": {},
   "source": [
    "# Pré-processamento"
   ]
  },
  {
   "cell_type": "code",
   "execution_count": 6,
   "metadata": {},
   "outputs": [
    {
     "name": "stdout",
     "output_type": "stream",
     "text": [
      "[[1 0 0 0 0 1 0 0 1 0 0 1 1 0 0 1 0 0]\n",
      " [1 0 0 0 0 1 1 0 0 0 0 1 0 1 0 0 0 1]\n",
      " [0 0 1 0 0 1 0 0 1 0 0 1 1 0 0 0 0 1]\n",
      " [0 0 1 0 0 1 0 0 1 0 0 1 1 0 0 1 0 0]\n",
      " [0 1 0 1 0 0 0 1 0 0 1 0 0 0 1 0 1 0]\n",
      " [0 1 0 1 0 0 0 1 0 0 0 1 0 0 1 1 0 0]\n",
      " [0 1 0 0 1 0 0 1 0 1 0 0 1 0 0 0 0 1]\n",
      " [1 0 0 0 0 1 1 0 0 0 0 1 1 0 0 0 0 1]\n",
      " [0 1 0 0 1 0 0 1 0 1 0 0 1 0 0 0 1 0]\n",
      " [1 0 0 0 0 1 0 1 0 0 1 0 1 0 0 0 0 1]\n",
      " [0 1 0 1 0 0 1 0 0 0 0 1 0 1 0 0 1 0]\n",
      " [0 1 0 0 1 0 0 0 1 0 0 1 0 1 0 0 1 0]\n",
      " [0 0 1 0 0 1 0 0 1 0 0 1 0 0 1 1 0 0]\n",
      " [1 0 0 0 0 1 1 0 0 0 1 0 1 0 0 1 0 0]\n",
      " [0 0 1 0 0 1 0 0 1 0 0 1 1 0 0 0 1 0]]\n"
     ]
    }
   ],
   "source": [
    "with open(baseDados, 'r') as arq:\n",
    "    texto = arq.readlines();\n",
    "    \n",
    "mt = pd.DataFrame([[elemento for elemento in linha.split()] for linha in texto]);\n",
    "mtBinaria = pd.get_dummies(mt);\n",
    "mtBinaria = mtBinaria.astype('int').to_numpy();\n",
    "print(MPR);"
   ]
  },
  {
   "cell_type": "markdown",
   "metadata": {},
   "source": [
    "# Calculo de Suporte"
   ]
  },
  {
   "cell_type": "code",
   "execution_count": 9,
   "metadata": {},
   "outputs": [
    {
     "name": "stdout",
     "output_type": "stream",
     "text": [
      "[ 5  6  4  3  3  9  4  5  6  2  3 10  9  3  3  5  5  5]\n",
      "[0.27777778 0.33333333 0.22222222 0.16666667 0.16666667 0.5\n",
      " 0.22222222 0.27777778 0.33333333 0.11111111 0.16666667 0.55555556\n",
      " 0.5        0.16666667 0.16666667 0.27777778 0.27777778 0.27777778]\n"
     ]
    }
   ],
   "source": [
    "freqItens = np.sum(MPR, axis=0);\n",
    "print(freqItens);\n",
    "apoioItens = freqItens / MPR.shape[1];\n",
    "print(apoioItens);\n"
   ]
  },
  {
   "cell_type": "code",
   "execution_count": null,
   "metadata": {},
   "outputs": [],
   "source": []
  }
 ],
 "metadata": {
  "kernelspec": {
   "display_name": "Python 3",
   "language": "python",
   "name": "python3"
  },
  "language_info": {
   "codemirror_mode": {
    "name": "ipython",
    "version": 3
   },
   "file_extension": ".py",
   "mimetype": "text/x-python",
   "name": "python",
   "nbconvert_exporter": "python",
   "pygments_lexer": "ipython3",
   "version": "3.7.4"
  }
 },
 "nbformat": 4,
 "nbformat_minor": 2
}
