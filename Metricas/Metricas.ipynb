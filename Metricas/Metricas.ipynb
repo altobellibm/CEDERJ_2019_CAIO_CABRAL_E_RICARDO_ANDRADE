{
 "cells": [
  {
   "cell_type": "markdown",
   "metadata": {},
   "source": [
    "# Importações Necessárias"
   ]
  },
  {
   "cell_type": "code",
   "execution_count": 1,
   "metadata": {},
   "outputs": [],
   "source": [
    "import numpy as np;\n",
    "import pandas as pd;"
   ]
  },
  {
   "cell_type": "markdown",
   "metadata": {},
   "source": [
    "# Parâmetros de Entrada"
   ]
  },
  {
   "cell_type": "code",
   "execution_count": 2,
   "metadata": {},
   "outputs": [],
   "source": [
    "baseDados = \"BPressureNishiBook.dat\";\n",
    "baseRegras = \"BPressureNishiBook.txt\";"
   ]
  },
  {
   "cell_type": "markdown",
   "metadata": {},
   "source": [
    "# Pré-Processamento Base Transacional"
   ]
  },
  {
   "cell_type": "code",
   "execution_count": 210,
   "metadata": {},
   "outputs": [
    {
     "name": "stdout",
     "output_type": "stream",
     "text": [
      "[[1 0 0 0 0 1 0 0 1 0 0 1 1 0 0 1 0 0]\n",
      " [1 0 0 0 0 1 1 0 0 0 0 1 0 1 0 0 0 1]\n",
      " [0 0 1 0 0 1 0 0 1 0 0 1 1 0 0 0 0 1]\n",
      " [0 0 1 0 0 1 0 0 1 0 0 1 1 0 0 1 0 0]\n",
      " [0 1 0 1 0 0 0 1 0 0 1 0 0 0 1 0 1 0]\n",
      " [0 1 0 1 0 0 0 1 0 0 0 1 0 0 1 1 0 0]\n",
      " [0 1 0 0 1 0 0 1 0 1 0 0 1 0 0 0 0 1]\n",
      " [1 0 0 0 0 1 1 0 0 0 0 1 1 0 0 0 0 1]\n",
      " [0 1 0 0 1 0 0 1 0 1 0 0 1 0 0 0 1 0]\n",
      " [1 0 0 0 0 1 0 1 0 0 1 0 1 0 0 0 0 1]\n",
      " [0 1 0 1 0 0 1 0 0 0 0 1 0 1 0 0 1 0]\n",
      " [0 1 0 0 1 0 0 0 1 0 0 1 0 1 0 0 1 0]\n",
      " [0 0 1 0 0 1 0 0 1 0 0 1 0 0 1 1 0 0]\n",
      " [1 0 0 0 0 1 1 0 0 0 1 0 1 0 0 1 0 0]\n",
      " [0 0 1 0 0 1 0 0 1 0 0 1 1 0 0 0 1 0]]\n"
     ]
    }
   ],
   "source": [
    "# lendo arquivo\n",
    "mt = pd.read_table(baseDados, delim_whitespace=True, dtype=\"str\", header=None);\n",
    "# pre-processando\n",
    "mtBinaria = pd.get_dummies(mt);\n",
    "dados = mtBinaria.astype('int').to_numpy();\n",
    "dadosNeg = abs(dados-1);\n",
    "\n",
    "print(dados);"
   ]
  },
  {
   "cell_type": "markdown",
   "metadata": {},
   "source": [
    "# Pré-processamento RAs"
   ]
  },
  {
   "cell_type": "code",
   "execution_count": 222,
   "metadata": {},
   "outputs": [
    {
     "name": "stdout",
     "output_type": "stream",
     "text": [
      "                       AR  sup                   cnf  antc                cons\n",
      "0                6 ==> 1    5     0.5555555555555556   [6]                 [1]\n",
      "1                1 ==> 6    5                    1.0   [1]                 [6]\n",
      "2                4 ==> 2    3                    1.0   [4]                 [2]\n",
      "3                2 ==> 4    3                    0.5   [2]                 [4]\n",
      "4                5 ==> 2    3                    1.0   [5]                 [2]\n",
      "...                   ...  ...                   ...   ...                 ...\n",
      "1369  15 ==> 3 6 9 12 16    1     0.3333333333333333  [15]   [3, 6, 9, 12, 16]\n",
      "1370  12 ==> 3 6 9 15 16    1                    0.1  [12]   [3, 6, 9, 15, 16]\n",
      "1371  9 ==> 3 6 12 15 16    1    0.16666666666666666   [9]  [3, 6, 12, 15, 16]\n",
      "1372  6 ==> 3 9 12 15 16    1     0.1111111111111111   [6]  [3, 9, 12, 15, 16]\n",
      "1373  3 ==> 6 9 12 15 16    1                   0.25   [3]  [6, 9, 12, 15, 16]\n",
      "\n",
      "[1374 rows x 5 columns]\n"
     ]
    }
   ],
   "source": [
    "# lendo a base\n",
    "regras = pd.read_table(baseRegras, sep=\"#\", names=(\"AR\", \"sup\", \"cnf\"));\n",
    "# limpando os valores\n",
    "regras[\"sup\"] = regras[\"sup\"].str.replace(\"SUP:\", \"\");\n",
    "regras[\"cnf\"] = regras[\"cnf\"].str.replace(\"CONF:\", \"\");\n",
    "regras[\"antc\"], regras[\"cons\"] =  regras[\"AR\"].str.split(\"==>\").str;\n",
    "regras[\"cons\"] = regras[\"cons\"].str.split();\n",
    "regras[\"antc\"] = regras[\"antc\"].str.split();\n",
    "\n",
    "print(regras);"
   ]
  },
  {
   "cell_type": "markdown",
   "metadata": {},
   "source": [
    "# Suporte"
   ]
  },
  {
   "cell_type": "code",
   "execution_count": 224,
   "metadata": {},
   "outputs": [
    {
     "name": "stdout",
     "output_type": "stream",
     "text": [
      "12 6 ==> 13 #SUPP: 5\n",
      "12 17 14 ==> 2 #SUPP: 2\n"
     ]
    }
   ],
   "source": [
    "def absSupp(itemset1, itemset2=[], negativo=False):\n",
    "    itemset = itemset1 + itemset2;   \n",
    "    # Se o suporte for negativo, usamos a base invertida.\n",
    "    if negativo:\n",
    "        base = dadosNeg;\n",
    "    else:\n",
    "        base = dados;\n",
    "    # criando um vetor temporário (para não alterar a base de dados).\n",
    "    tmp = np.copy(base[:,itemset[0]-1]);\n",
    "    # multiplicando os vetores de cada item dentro do itemset\n",
    "    for i in itemset:\n",
    "        tmp *= base[:,i-1];   \n",
    "    # Somando todos os elementos dos vetores\n",
    "    return np.sum(tmp, axis=0);\n",
    "    \n",
    "    \n",
    "def relSupp(itemset1, itemset2=[], negativo=False):\n",
    "    return absSupp(itemset1, itemset2, negativo) / dados.shape[1];\n",
    "\n",
    "      \n",
    "print(\"12 6 ==> 13 #SUPP: \" + str(absSupp([12, 6], [13]))) #5\n",
    "print(\"12 17 14 ==> 2 #SUPP: \" + str(absSupp([12, 17, 14], [2]))) #2"
   ]
  },
  {
   "cell_type": "markdown",
   "metadata": {},
   "source": [
    "# Confiança"
   ]
  },
  {
   "cell_type": "code",
   "execution_count": 185,
   "metadata": {},
   "outputs": [
    {
     "name": "stdout",
     "output_type": "stream",
     "text": [
      "1.0\n",
      "0.6666666666666666\n",
      "0.2857142857142857\n"
     ]
    }
   ],
   "source": [
    "def conf(antc,consq):\n",
    "    return abSuppRA(antc,consq)/abSupp(antc);\n",
    "\n",
    "\n",
    "print(conf([12, 17, 14], [2]));# 1.0\n",
    "print(conf([6, 1, 18], [13])); # .666\n",
    "print(conf([6, 13], [1, 18])); # .2857142857142857"
   ]
  },
  {
   "cell_type": "markdown",
   "metadata": {},
   "source": [
    "# Added Value"
   ]
  },
  {
   "cell_type": "code",
   "execution_count": null,
   "metadata": {},
   "outputs": [],
   "source": [
    "def addedValue(antc, consq):\n",
    "    return conf(antc, consq)-reSupp(consq);"
   ]
  },
  {
   "cell_type": "markdown",
   "metadata": {},
   "source": [
    "# All-Confidence"
   ]
  },
  {
   "cell_type": "code",
   "execution_count": null,
   "metadata": {},
   "outputs": [],
   "source": [
    "def allConf(itemset):\n",
    "    maxSup = max([reSupp(i) for i in itemset])\n",
    "    \n",
    "    return reSupp(itemset)/maxSup"
   ]
  },
  {
   "cell_type": "markdown",
   "metadata": {},
   "source": [
    "# Casual Support"
   ]
  },
  {
   "cell_type": "code",
   "execution_count": null,
   "metadata": {},
   "outputs": [],
   "source": [
    "def casualSupp(ant, cons):\n",
    "    return relSupp(ant, cons) + relSupp(ant, cons, negativo=True);"
   ]
  },
  {
   "cell_type": "markdown",
   "metadata": {},
   "source": [
    "# Certainty Factor (CF)"
   ]
  },
  {
   "cell_type": "code",
   "execution_count": 225,
   "metadata": {},
   "outputs": [],
   "source": [
    "def certFactor(ant, cons):\n",
    "    return conf(ant,cons)-relSupp(cons)/relSupp(cons, negativo=True);"
   ]
  }
 ],
 "metadata": {
  "kernelspec": {
   "display_name": "Python 3",
   "language": "python",
   "name": "python3"
  },
  "language_info": {
   "codemirror_mode": {
    "name": "ipython",
    "version": 3
   },
   "file_extension": ".py",
   "mimetype": "text/x-python",
   "name": "python",
   "nbconvert_exporter": "python",
   "pygments_lexer": "ipython3",
   "version": "3.7.4"
  }
 },
 "nbformat": 4,
 "nbformat_minor": 2
}
