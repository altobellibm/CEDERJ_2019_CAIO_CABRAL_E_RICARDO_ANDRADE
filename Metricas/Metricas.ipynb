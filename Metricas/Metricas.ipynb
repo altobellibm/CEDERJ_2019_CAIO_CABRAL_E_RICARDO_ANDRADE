{
 "cells": [
  {
   "cell_type": "markdown",
   "metadata": {},
   "source": [
    "# Importações Necessárias"
   ]
  },
  {
   "cell_type": "code",
   "execution_count": 1,
   "metadata": {},
   "outputs": [],
   "source": [
    "import numpy as np;\n",
    "import pandas as pd;"
   ]
  },
  {
   "cell_type": "markdown",
   "metadata": {},
   "source": [
    "# Parâmetros de Entrada"
   ]
  },
  {
   "cell_type": "code",
   "execution_count": 2,
   "metadata": {},
   "outputs": [],
   "source": [
    "baseDados = \"BPressureNishiBook.dat\";\n",
    "baseRegras = \"BPressureNishiBook.txt\";"
   ]
  },
  {
   "cell_type": "markdown",
   "metadata": {},
   "source": [
    "# Pré-Processamento Base Transacional"
   ]
  },
  {
   "cell_type": "code",
   "execution_count": 167,
   "metadata": {},
   "outputs": [
    {
     "name": "stdout",
     "output_type": "stream",
     "text": [
      "[[1 0 0 0 0 1 0 0 1 0 0 1 1 0 0 1 0 0]\n",
      " [1 0 0 0 0 1 1 0 0 0 0 1 0 1 0 0 0 1]\n",
      " [0 0 1 0 0 1 0 0 1 0 0 1 1 0 0 0 0 1]\n",
      " [0 0 1 0 0 1 0 0 1 0 0 1 1 0 0 1 0 0]\n",
      " [0 1 0 1 0 0 0 1 0 0 1 0 0 0 1 0 1 0]\n",
      " [0 1 0 1 0 0 0 1 0 0 0 1 0 0 1 1 0 0]\n",
      " [0 1 0 0 1 0 0 1 0 1 0 0 1 0 0 0 0 1]\n",
      " [1 0 0 0 0 1 1 0 0 0 0 1 1 0 0 0 0 1]\n",
      " [0 1 0 0 1 0 0 1 0 1 0 0 1 0 0 0 1 0]\n",
      " [1 0 0 0 0 1 0 1 0 0 1 0 1 0 0 0 0 1]\n",
      " [0 1 0 1 0 0 1 0 0 0 0 1 0 1 0 0 1 0]\n",
      " [0 1 0 0 1 0 0 0 1 0 0 1 0 1 0 0 1 0]\n",
      " [0 0 1 0 0 1 0 0 1 0 0 1 0 0 1 1 0 0]\n",
      " [1 0 0 0 0 1 1 0 0 0 1 0 1 0 0 1 0 0]\n",
      " [0 0 1 0 0 1 0 0 1 0 0 1 1 0 0 0 1 0]]\n"
     ]
    }
   ],
   "source": [
    "# lendo arquivo\n",
    "mt = pd.read_table(baseDados, delim_whitespace=True, dtype=\"str\", header=None);\n",
    "# pre-processando\n",
    "mtBinaria = pd.get_dummies(mt);\n",
    "dados = mtBinaria.astype('int').to_numpy();\n",
    "print(dados);"
   ]
  },
  {
   "cell_type": "markdown",
   "metadata": {},
   "source": [
    "# Pré-processamento RAs"
   ]
  },
  {
   "cell_type": "code",
   "execution_count": 168,
   "metadata": {},
   "outputs": [
    {
     "name": "stdout",
     "output_type": "stream",
     "text": [
      "                       AR  sup                   cnf                itemset  \\\n",
      "0                6 ==> 1    5     0.5555555555555556                 [6, 1]   \n",
      "1                1 ==> 6    5                    1.0                 [1, 6]   \n",
      "2                4 ==> 2    3                    1.0                 [4, 2]   \n",
      "3                2 ==> 4    3                    0.5                 [2, 4]   \n",
      "4                5 ==> 2    3                    1.0                 [5, 2]   \n",
      "...                   ...  ...                   ...                    ...   \n",
      "1369  15 ==> 3 6 9 12 16    1     0.3333333333333333  [15, 3, 6, 9, 12, 16]   \n",
      "1370  12 ==> 3 6 9 15 16    1                    0.1  [12, 3, 6, 9, 15, 16]   \n",
      "1371  9 ==> 3 6 12 15 16    1    0.16666666666666666  [9, 3, 6, 12, 15, 16]   \n",
      "1372  6 ==> 3 9 12 15 16    1     0.1111111111111111  [6, 3, 9, 12, 15, 16]   \n",
      "1373  3 ==> 6 9 12 15 16    1                   0.25  [3, 6, 9, 12, 15, 16]   \n",
      "\n",
      "      antc                cons  \n",
      "0      [6]                 [1]  \n",
      "1      [1]                 [6]  \n",
      "2      [4]                 [2]  \n",
      "3      [2]                 [4]  \n",
      "4      [5]                 [2]  \n",
      "...    ...                 ...  \n",
      "1369  [15]   [3, 6, 9, 12, 16]  \n",
      "1370  [12]   [3, 6, 9, 15, 16]  \n",
      "1371   [9]  [3, 6, 12, 15, 16]  \n",
      "1372   [6]  [3, 9, 12, 15, 16]  \n",
      "1373   [3]  [6, 9, 12, 15, 16]  \n",
      "\n",
      "[1374 rows x 6 columns]\n"
     ]
    }
   ],
   "source": [
    "regras = pd.read_table(baseRegras, sep=\"#\", names=(\"AR\", \"sup\", \"cnf\"));\n",
    "regras[\"sup\"] = regras[\"sup\"].str.replace(\"SUP:\", \"\");\n",
    "regras[\"cnf\"] = regras[\"cnf\"].str.replace(\"CONF:\", \"\");\n",
    "\n",
    "regras[\"itemset\"] = regras[\"AR\"].str.replace(\"==>\", \" \").str.split();\n",
    "\n",
    "regras[\"antc\"], regras[\"cons\"] =  regras[\"AR\"].str.split(\"==>\").str;\n",
    "regras[\"cons\"] = regras[\"cons\"].str.split();\n",
    "regras[\"antc\"] = regras[\"antc\"].str.split();\n",
    "\n",
    "print(regras);"
   ]
  },
  {
   "cell_type": "markdown",
   "metadata": {},
   "source": [
    "# Suporte Absoluto"
   ]
  },
  {
   "cell_type": "code",
   "execution_count": 186,
   "metadata": {},
   "outputs": [
    {
     "name": "stdout",
     "output_type": "stream",
     "text": [
      "12 6 ==> 13 #SUPP: 5\n",
      "12 17 14 ==> 2 #SUPP: 2\n"
     ]
    }
   ],
   "source": [
    "def abSuppRA(antc, consq):\n",
    "    return calcSupp(list(antc) + list(consq));\n",
    "\n",
    "\n",
    "def abSupp(itemset):\n",
    "    base = np.copy(dados[:,itemset[0]-1]);\n",
    "\n",
    "    for i in itemset:\n",
    "        base *= dados[:,i-1];\n",
    "   \n",
    "    return np.sum(base, axis=0);\n",
    "      \n",
    "print(\"12 6 ==> 13 #SUPP: \" + str(calcSuppRA([12, 6], [13]))) #5\n",
    "print(\"12 17 14 ==> 2 #SUPP: \" + str(calcSuppRA([12, 17, 14], [2]))) #2"
   ]
  },
  {
   "cell_type": "markdown",
   "metadata": {},
   "source": [
    "# Suporte Relativo"
   ]
  },
  {
   "cell_type": "code",
   "execution_count": 180,
   "metadata": {},
   "outputs": [],
   "source": [
    "def reSuppRA(antc, consq):\n",
    "    return reSupp(list(antc) + list(consq));\n",
    "\n",
    "def reSupp(itemset):\n",
    "    return abSupp(itemset) / dados.shape[1];"
   ]
  },
  {
   "cell_type": "markdown",
   "metadata": {},
   "source": [
    "# Confiança"
   ]
  },
  {
   "cell_type": "code",
   "execution_count": 185,
   "metadata": {},
   "outputs": [
    {
     "name": "stdout",
     "output_type": "stream",
     "text": [
      "1.0\n",
      "0.6666666666666666\n",
      "0.2857142857142857\n"
     ]
    }
   ],
   "source": [
    "def conf(antc,consq):\n",
    "    return abSuppRA(antc,consq)/abSupp(antc);\n",
    "\n",
    "\n",
    "print(conf([12, 17, 14], [2]));# 1.0\n",
    "print(conf([6, 1, 18], [13])); # .666\n",
    "print(conf([6, 13], [1, 18])); #0.2857142857142857"
   ]
  },
  {
   "cell_type": "markdown",
   "metadata": {},
   "source": [
    "# Added Value"
   ]
  },
  {
   "cell_type": "code",
   "execution_count": null,
   "metadata": {},
   "outputs": [],
   "source": [
    "def addedValue(antc, consq):\n",
    "    return conf(antc, consq)-reSupp(consq);"
   ]
  },
  {
   "cell_type": "markdown",
   "metadata": {},
   "source": [
    "# All-Confidence"
   ]
  },
  {
   "cell_type": "code",
   "execution_count": null,
   "metadata": {},
   "outputs": [],
   "source": [
    "def allConf(itemset):\n",
    "    maxSup = max([reSupp(i) for i in itemset])\n",
    "    \n",
    "    return reSupp(itemset)/maxSup"
   ]
  }
 ],
 "metadata": {
  "kernelspec": {
   "display_name": "Python 3",
   "language": "python",
   "name": "python3"
  },
  "language_info": {
   "codemirror_mode": {
    "name": "ipython",
    "version": 3
   },
   "file_extension": ".py",
   "mimetype": "text/x-python",
   "name": "python",
   "nbconvert_exporter": "python",
   "pygments_lexer": "ipython3",
   "version": "3.7.4"
  }
 },
 "nbformat": 4,
 "nbformat_minor": 2
}
