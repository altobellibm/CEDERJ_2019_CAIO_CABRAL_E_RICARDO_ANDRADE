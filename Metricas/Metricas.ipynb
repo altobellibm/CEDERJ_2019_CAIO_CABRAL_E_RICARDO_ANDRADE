{
 "cells": [
  {
   "cell_type": "markdown",
   "metadata": {},
   "source": [
    "# Importações Necessárias"
   ]
  },
  {
   "cell_type": "code",
   "execution_count": 15,
   "metadata": {},
   "outputs": [],
   "source": [
    "import numpy as np;\n",
    "import pandas as pd;\n",
    "from scipy.stats import chisquare;"
   ]
  },
  {
   "cell_type": "markdown",
   "metadata": {},
   "source": [
    "# Parâmetros de Entrada"
   ]
  },
  {
   "cell_type": "code",
   "execution_count": 16,
   "metadata": {},
   "outputs": [],
   "source": [
    "baseDados = \"BPressureNishiBook.dat\";\n",
    "baseRegras = \"BPressureNishiBook.txt\";"
   ]
  },
  {
   "cell_type": "markdown",
   "metadata": {},
   "source": [
    "# Pré-Processamento Base Transacional"
   ]
  },
  {
   "cell_type": "code",
   "execution_count": 17,
   "metadata": {},
   "outputs": [
    {
     "name": "stdout",
     "output_type": "stream",
     "text": [
      "[[1 0 0 0 0 1 0 0 1 0 0 1 1 0 0 1 0 0]\n",
      " [1 0 0 0 0 1 1 0 0 0 0 1 0 1 0 0 0 1]\n",
      " [0 0 1 0 0 1 0 0 1 0 0 1 1 0 0 0 0 1]\n",
      " [0 0 1 0 0 1 0 0 1 0 0 1 1 0 0 1 0 0]\n",
      " [0 1 0 1 0 0 0 1 0 0 1 0 0 0 1 0 1 0]\n",
      " [0 1 0 1 0 0 0 1 0 0 0 1 0 0 1 1 0 0]\n",
      " [0 1 0 0 1 0 0 1 0 1 0 0 1 0 0 0 0 1]\n",
      " [1 0 0 0 0 1 1 0 0 0 0 1 1 0 0 0 0 1]\n",
      " [0 1 0 0 1 0 0 1 0 1 0 0 1 0 0 0 1 0]\n",
      " [1 0 0 0 0 1 0 1 0 0 1 0 1 0 0 0 0 1]\n",
      " [0 1 0 1 0 0 1 0 0 0 0 1 0 1 0 0 1 0]\n",
      " [0 1 0 0 1 0 0 0 1 0 0 1 0 1 0 0 1 0]\n",
      " [0 0 1 0 0 1 0 0 1 0 0 1 0 0 1 1 0 0]\n",
      " [1 0 0 0 0 1 1 0 0 0 1 0 1 0 0 1 0 0]\n",
      " [0 0 1 0 0 1 0 0 1 0 0 1 1 0 0 0 1 0]]\n"
     ]
    }
   ],
   "source": [
    "mt = pd.read_table(baseDados, delim_whitespace=True, dtype=\"str\", header=None);\n",
    "mtBinaria = pd.get_dummies(mt);\n",
    "dados = mtBinaria.astype('int').to_numpy();\n",
    "dadosNeg = abs(dados-1);\n",
    "print(dados);"
   ]
  },
  {
   "cell_type": "markdown",
   "metadata": {},
   "source": [
    "# Pré-processamento RAs"
   ]
  },
  {
   "cell_type": "code",
   "execution_count": 18,
   "metadata": {},
   "outputs": [
    {
     "name": "stdout",
     "output_type": "stream",
     "text": [
      "      sup       cnf  antc                cons\n",
      "0     5.0  0.555556   [6]                 [1]\n",
      "1     5.0  1.000000   [1]                 [6]\n",
      "2     3.0  1.000000   [4]                 [2]\n",
      "3     3.0  0.500000   [2]                 [4]\n",
      "4     3.0  1.000000   [5]                 [2]\n",
      "...   ...       ...   ...                 ...\n",
      "1369  1.0  0.333333  [15]   [3, 6, 9, 12, 16]\n",
      "1370  1.0  0.100000  [12]   [3, 6, 9, 15, 16]\n",
      "1371  1.0  0.166667   [9]  [3, 6, 12, 15, 16]\n",
      "1372  1.0  0.111111   [6]  [3, 9, 12, 15, 16]\n",
      "1373  1.0  0.250000   [3]  [6, 9, 12, 15, 16]\n",
      "\n",
      "[1374 rows x 4 columns]\n"
     ]
    }
   ],
   "source": [
    "regras = pd.read_table(baseRegras, sep=\"#\", names=(\"AR\", \"sup\", \"cnf\"));\n",
    "regras[\"antc\"], regras[\"cons\"] =  regras[\"AR\"].str.split(\"==>\").str;\n",
    "del regras[\"AR\"]\n",
    "regras[\"sup\"] = regras[\"sup\"].str.replace(\"SUP:\", \"\").astype('float');\n",
    "regras[\"cnf\"] = regras[\"cnf\"].str.replace(\"CONF:\", \"\").astype('float');\n",
    "regras[\"cons\"] = regras[\"cons\"].str.split();\n",
    "regras[\"antc\"] = regras[\"antc\"].str.split();\n",
    "print(regras);"
   ]
  },
  {
   "cell_type": "markdown",
   "metadata": {},
   "source": [
    "# Suporte"
   ]
  },
  {
   "cell_type": "code",
   "execution_count": 19,
   "metadata": {},
   "outputs": [
    {
     "name": "stdout",
     "output_type": "stream",
     "text": [
      "9\n",
      "12 6 ==> 13 #SUPP: 5\n",
      "12 17 14 ==> 2 #SUPP: 2\n"
     ]
    }
   ],
   "source": [
    "def intersect(itemset, base):\n",
    "    tmp = base[:,np.array(itemset)-1]\n",
    "    return tmp.all(axis=1)\n",
    "\n",
    "def abSupp(itemset1, itemset2=[], negativo=False):\n",
    "    itemset = itemset1 + itemset2;\n",
    "    base=np.copy(dados)\n",
    "    if negativo:\n",
    "        base = abs(base-1);    \n",
    "    return np.sum(intersect(itemset, base), axis=0);\n",
    "    \n",
    "    \n",
    "def relSupp(itemset1, itemset2=[], negativo=False):\n",
    "    return abSupp(itemset1, itemset2, negativo) / dados.shape[0];\n",
    "\n",
    "print(abSupp([6]));      \n",
    "print(\"12 6 ==> 13 #SUPP: \" + str(abSupp([12, 6], [13]))) #5\n",
    "print(\"12 17 14 ==> 2 #SUPP: \" + str(abSupp([12, 17, 14], [2]))) #2"
   ]
  },
  {
   "cell_type": "markdown",
   "metadata": {},
   "source": [
    "# Confiança"
   ]
  },
  {
   "cell_type": "code",
   "execution_count": 20,
   "metadata": {},
   "outputs": [
    {
     "name": "stdout",
     "output_type": "stream",
     "text": [
      "1.0\n",
      "0.6666666666666666\n",
      "0.2857142857142857\n"
     ]
    }
   ],
   "source": [
    "def conf(antc,consq):\n",
    "    return abSupp(antc,consq)/abSupp(antc);\n",
    "\n",
    "print(conf([12, 17, 14], [2]));# 1.0\n",
    "print(conf([6, 1, 18], [13])); # .666\n",
    "print(conf([6, 13], [1, 18])); # .2857142857142857"
   ]
  },
  {
   "cell_type": "markdown",
   "metadata": {},
   "source": [
    "# Added Value"
   ]
  },
  {
   "cell_type": "code",
   "execution_count": 21,
   "metadata": {},
   "outputs": [],
   "source": [
    "def addedValue(antc, consq):\n",
    "    return conf(antc, consq)-reSupp(consq);"
   ]
  },
  {
   "cell_type": "markdown",
   "metadata": {},
   "source": [
    "# All-Confidence"
   ]
  },
  {
   "cell_type": "code",
   "execution_count": 32,
   "metadata": {},
   "outputs": [
    {
     "name": "stdout",
     "output_type": "stream",
     "text": [
      "[1, 6]\n"
     ]
    },
    {
     "ename": "TypeError",
     "evalue": "'int' object is not iterable",
     "output_type": "error",
     "traceback": [
      "\u001b[0;31m---------------------------------------------------------------------------\u001b[0m",
      "\u001b[0;31mTypeError\u001b[0m                                 Traceback (most recent call last)",
      "\u001b[0;32m<ipython-input-32-247c81175dd5>\u001b[0m in \u001b[0;36m<module>\u001b[0;34m\u001b[0m\n\u001b[1;32m      8\u001b[0m     \u001b[0mrelSupp\u001b[0m\u001b[0;34m(\u001b[0m\u001b[0mitemset\u001b[0m\u001b[0;34m)\u001b[0m\u001b[0;34m/\u001b[0m\u001b[0mmaxSup\u001b[0m\u001b[0;34m\u001b[0m\u001b[0;34m\u001b[0m\u001b[0m\n\u001b[1;32m      9\u001b[0m \u001b[0;34m\u001b[0m\u001b[0m\n\u001b[0;32m---> 10\u001b[0;31m \u001b[0mprint\u001b[0m\u001b[0;34m(\u001b[0m\u001b[0mallConf\u001b[0m\u001b[0;34m(\u001b[0m\u001b[0;34m[\u001b[0m\u001b[0;36m1\u001b[0m\u001b[0;34m,\u001b[0m \u001b[0;36m6\u001b[0m\u001b[0;34m]\u001b[0m\u001b[0;34m)\u001b[0m\u001b[0;34m)\u001b[0m\u001b[0;34m\u001b[0m\u001b[0;34m\u001b[0m\u001b[0m\n\u001b[0m\u001b[1;32m     11\u001b[0m \u001b[0mprint\u001b[0m\u001b[0;34m(\u001b[0m\u001b[0mallConf2\u001b[0m\u001b[0;34m(\u001b[0m\u001b[0;34m[\u001b[0m\u001b[0;36m1\u001b[0m\u001b[0;34m,\u001b[0m \u001b[0;36m6\u001b[0m\u001b[0;34m]\u001b[0m\u001b[0;34m)\u001b[0m\u001b[0;34m)\u001b[0m\u001b[0;34m\u001b[0m\u001b[0;34m\u001b[0m\u001b[0m\n",
      "\u001b[0;32m<ipython-input-32-247c81175dd5>\u001b[0m in \u001b[0;36mallConf\u001b[0;34m(itemset)\u001b[0m\n\u001b[1;32m      1\u001b[0m \u001b[0;32mdef\u001b[0m \u001b[0mallConf\u001b[0m\u001b[0;34m(\u001b[0m\u001b[0mitemset\u001b[0m\u001b[0;34m)\u001b[0m\u001b[0;34m:\u001b[0m\u001b[0;34m\u001b[0m\u001b[0;34m\u001b[0m\u001b[0m\n\u001b[1;32m      2\u001b[0m     \u001b[0mprint\u001b[0m\u001b[0;34m(\u001b[0m\u001b[0mitemset\u001b[0m\u001b[0;34m)\u001b[0m\u001b[0;34m\u001b[0m\u001b[0;34m\u001b[0m\u001b[0m\n\u001b[0;32m----> 3\u001b[0;31m     \u001b[0mmaxSup\u001b[0m \u001b[0;34m=\u001b[0m \u001b[0mmax\u001b[0m\u001b[0;34m(\u001b[0m\u001b[0;34m[\u001b[0m\u001b[0mrelSupp\u001b[0m\u001b[0;34m(\u001b[0m\u001b[0mlist\u001b[0m\u001b[0;34m(\u001b[0m\u001b[0mi\u001b[0m\u001b[0;34m)\u001b[0m\u001b[0;34m)\u001b[0m \u001b[0;32mfor\u001b[0m \u001b[0mi\u001b[0m \u001b[0;32min\u001b[0m \u001b[0mitemset\u001b[0m\u001b[0;34m]\u001b[0m\u001b[0;34m)\u001b[0m\u001b[0;34m\u001b[0m\u001b[0;34m\u001b[0m\u001b[0m\n\u001b[0m\u001b[1;32m      4\u001b[0m     \u001b[0;32mreturn\u001b[0m \u001b[0mrelSupp\u001b[0m\u001b[0;34m(\u001b[0m\u001b[0mitemset\u001b[0m\u001b[0;34m)\u001b[0m\u001b[0;34m/\u001b[0m\u001b[0mmaxSup\u001b[0m\u001b[0;34m\u001b[0m\u001b[0;34m\u001b[0m\u001b[0m\n\u001b[1;32m      5\u001b[0m \u001b[0;34m\u001b[0m\u001b[0m\n",
      "\u001b[0;32m<ipython-input-32-247c81175dd5>\u001b[0m in \u001b[0;36m<listcomp>\u001b[0;34m(.0)\u001b[0m\n\u001b[1;32m      1\u001b[0m \u001b[0;32mdef\u001b[0m \u001b[0mallConf\u001b[0m\u001b[0;34m(\u001b[0m\u001b[0mitemset\u001b[0m\u001b[0;34m)\u001b[0m\u001b[0;34m:\u001b[0m\u001b[0;34m\u001b[0m\u001b[0;34m\u001b[0m\u001b[0m\n\u001b[1;32m      2\u001b[0m     \u001b[0mprint\u001b[0m\u001b[0;34m(\u001b[0m\u001b[0mitemset\u001b[0m\u001b[0;34m)\u001b[0m\u001b[0;34m\u001b[0m\u001b[0;34m\u001b[0m\u001b[0m\n\u001b[0;32m----> 3\u001b[0;31m     \u001b[0mmaxSup\u001b[0m \u001b[0;34m=\u001b[0m \u001b[0mmax\u001b[0m\u001b[0;34m(\u001b[0m\u001b[0;34m[\u001b[0m\u001b[0mrelSupp\u001b[0m\u001b[0;34m(\u001b[0m\u001b[0mlist\u001b[0m\u001b[0;34m(\u001b[0m\u001b[0mi\u001b[0m\u001b[0;34m)\u001b[0m\u001b[0;34m)\u001b[0m \u001b[0;32mfor\u001b[0m \u001b[0mi\u001b[0m \u001b[0;32min\u001b[0m \u001b[0mitemset\u001b[0m\u001b[0;34m]\u001b[0m\u001b[0;34m)\u001b[0m\u001b[0;34m\u001b[0m\u001b[0;34m\u001b[0m\u001b[0m\n\u001b[0m\u001b[1;32m      4\u001b[0m     \u001b[0;32mreturn\u001b[0m \u001b[0mrelSupp\u001b[0m\u001b[0;34m(\u001b[0m\u001b[0mitemset\u001b[0m\u001b[0;34m)\u001b[0m\u001b[0;34m/\u001b[0m\u001b[0mmaxSup\u001b[0m\u001b[0;34m\u001b[0m\u001b[0;34m\u001b[0m\u001b[0m\n\u001b[1;32m      5\u001b[0m \u001b[0;34m\u001b[0m\u001b[0m\n",
      "\u001b[0;31mTypeError\u001b[0m: 'int' object is not iterable"
     ]
    }
   ],
   "source": [
    "def allConf(itemset):\n",
    "    print(itemset)\n",
    "    maxSup = max([relSupp(list(i)) for i in itemset])    \n",
    "    return relSupp(itemset)/maxSup\n",
    "\n",
    "def allConf2(itemset):\n",
    "    maxSup = relSupp(np.array(itemset))\n",
    "    relSupp(itemset)/maxSup\n",
    "    \n",
    "print(allConf([1, 6]))\n",
    "print(allConf2([1, 6]))"
   ]
  },
  {
   "cell_type": "markdown",
   "metadata": {},
   "source": [
    "# Casual Support"
   ]
  },
  {
   "cell_type": "code",
   "execution_count": 9,
   "metadata": {},
   "outputs": [],
   "source": [
    "def casualSupp(ant, cons):\n",
    "    return relSupp(ant, cons) + relSupp(ant, cons, negativo=True);"
   ]
  },
  {
   "cell_type": "markdown",
   "metadata": {},
   "source": [
    "# Casual Confidence"
   ]
  },
  {
   "cell_type": "code",
   "execution_count": 10,
   "metadata": {},
   "outputs": [
    {
     "name": "stdout",
     "output_type": "stream",
     "text": [
      "0.8\n"
     ]
    }
   ],
   "source": [
    "def casualConf(ant, cons):\n",
    "    conf1 = conf(ant,cons)\n",
    "    conf2 = abSupp(ant,cons, negativo=True) / abSupp(ant, negativo=True)\n",
    "    return (conf1 + conf2) * .5\n",
    "\n",
    "print(casualConf([1], [6]))"
   ]
  },
  {
   "cell_type": "markdown",
   "metadata": {},
   "source": [
    "# Certainty Factor (CF)"
   ]
  },
  {
   "cell_type": "code",
   "execution_count": 11,
   "metadata": {},
   "outputs": [],
   "source": [
    "def certFactor(ant, cons):\n",
    "    return conf(ant,cons)-relSupp(cons)/relSupp(cons, negativo=True);"
   ]
  },
  {
   "cell_type": "markdown",
   "metadata": {},
   "source": [
    "# Chi-Squared\n",
    "\n",
    "http://citeseerx.ist.psu.edu/viewdoc/download?doi=10.1.1.81.4523&rep=rep1&type=pdf\n",
    "\n",
    "ftp://ftp.cse.buffalo.edu/users/azhang/disc/disc01/cd1/out/websites/kdd_explorations_full/ahmed.pdf\n",
    "\n",
    "https://docs.scipy.org/doc/scipy-0.14.0/reference/generated/scipy.stats.chisquare.html\n",
    "\n",
    "https://stackoverflow.com/questions/9330114/chi-squared-test-in-python"
   ]
  },
  {
   "cell_type": "code",
   "execution_count": 12,
   "metadata": {},
   "outputs": [
    {
     "name": "stdout",
     "output_type": "stream",
     "text": [
      "5.0\n"
     ]
    }
   ],
   "source": [
    "def chiSqrd(antc, cons):\n",
    "    #    l1 = [5,15,5]\n",
    "    #    l2 = [50,10,15]\n",
    "    #    l3 = [55,25,20]    \n",
    "    #    a= np.matrix([l1, l2, l3])\n",
    "    \n",
    "    lin = [intersect(antc, dados), intersect(antc, dadosNeg)]\n",
    "    col = [intersect(cons, dados), intersect(cons, dadosNeg)]\n",
    "\n",
    "    tbCtg = np.matrix([[np.sum(i*j) for i in lin] for j in col])\n",
    "    df = tbCtg.shape[1] - 1\n",
    "    observado = tbCtg.getA1()\n",
    "    \n",
    "    calcEsp = lambda i, j : np.sum(tbCtg[i,:])*np.sum(tbCtg[:,j])/np.sum(tbCtg)    \n",
    "    esperado = [calcEsp(i,j) for i in range(tbCtg.shape[0]) for j in range(tbCtg.shape[0])]\n",
    "    \n",
    "    chi, p = chisquare(f_obs=observado, f_exp=esperado, ddof=df)    \n",
    "    return chi\n",
    "\n",
    "print(chiSqrd([1],[6]))"
   ]
  },
  {
   "cell_type": "markdown",
   "metadata": {},
   "source": [
    "# Cross-Support Ratio"
   ]
  },
  {
   "cell_type": "code",
   "execution_count": 13,
   "metadata": {},
   "outputs": [],
   "source": [
    "def crossSuppRatio(itemset):\n",
    "    suportes = [abSupp(i) for i in itemset]\n",
    "    return min(suportes)/max(suportes)"
   ]
  },
  {
   "cell_type": "markdown",
   "metadata": {},
   "source": [
    "# Collective Strength ????\n",
    "http://www09.sigmod.org/disc/disc99/disc/sigmod_papers/slipp_a_new_framework_for_/slides.pdf"
   ]
  },
  {
   "cell_type": "code",
   "execution_count": 14,
   "metadata": {},
   "outputs": [
    {
     "name": "stdout",
     "output_type": "stream",
     "text": [
      "0.5000000000000001\n"
     ]
    }
   ],
   "source": [
    "def collectiveStrength(itemset):\n",
    "    violation = dados.shape[0]-abSupp(itemset)-abSupp(itemset, negativo=True)\n",
    "    violation /= dados.shape[0]\n",
    "\n",
    "    sup = relSupp(itemset)\n",
    "    \n",
    "    return ((1-violation)/1-sup) * ((sup)/violation)\n",
    "    \n",
    "print(collectiveStrength([6,1]))    \n",
    "\n"
   ]
  },
  {
   "cell_type": "markdown",
   "metadata": {},
   "source": [
    "# Conviction"
   ]
  },
  {
   "cell_type": "code",
   "execution_count": 15,
   "metadata": {},
   "outputs": [],
   "source": [
    "def conviction(ant, cons):\n",
    "    return (1-relSupp(cons))/1-conf(ant, cons)"
   ]
  },
  {
   "cell_type": "markdown",
   "metadata": {},
   "source": [
    "# Cosine"
   ]
  },
  {
   "cell_type": "code",
   "execution_count": 16,
   "metadata": {},
   "outputs": [],
   "source": [
    "def cosine(antc, cons):\n",
    "    return(relSupp(antc,cons)/(relSupp(antc), relSup(cons))**0.5)"
   ]
  },
  {
   "cell_type": "markdown",
   "metadata": {},
   "source": [
    "# Coverage"
   ]
  },
  {
   "cell_type": "code",
   "execution_count": 17,
   "metadata": {},
   "outputs": [],
   "source": [
    "def coverage(antc, cons):\n",
    "    return relSupp(antc)"
   ]
  }
 ],
 "metadata": {
  "kernelspec": {
   "display_name": "Python 3",
   "language": "python",
   "name": "python3"
  },
  "language_info": {
   "codemirror_mode": {
    "name": "ipython",
    "version": 3
   },
   "file_extension": ".py",
   "mimetype": "text/x-python",
   "name": "python",
   "nbconvert_exporter": "python",
   "pygments_lexer": "ipython3",
   "version": "3.7.4"
  }
 },
 "nbformat": 4,
 "nbformat_minor": 2
}
