{
 "cells": [
  {
   "cell_type": "markdown",
   "metadata": {},
   "source": [
    "# Importações Necessárias"
   ]
  },
  {
   "cell_type": "code",
   "execution_count": 1,
   "metadata": {},
   "outputs": [],
   "source": [
    "import numpy as np;\n",
    "import pandas as pd;"
   ]
  },
  {
   "cell_type": "markdown",
   "metadata": {},
   "source": [
    "# Parâmetros de Entrada"
   ]
  },
  {
   "cell_type": "code",
   "execution_count": 2,
   "metadata": {},
   "outputs": [],
   "source": [
    "baseDados = \"BPressureNishiBook.dat\";\n",
    "baseRegras = \"BPressureNishiBook.txt\";"
   ]
  },
  {
   "cell_type": "markdown",
   "metadata": {},
   "source": [
    "# Pré-Processamento Base Transacional"
   ]
  },
  {
   "cell_type": "code",
   "execution_count": 98,
   "metadata": {},
   "outputs": [
    {
     "name": "stdout",
     "output_type": "stream",
     "text": [
      "[[1 0 0 0 0 1 0 0 1 0 0 1 1 0 0 1 0 0]\n",
      " [1 0 0 0 0 1 1 0 0 0 0 1 0 1 0 0 0 1]\n",
      " [0 0 1 0 0 1 0 0 1 0 0 1 1 0 0 0 0 1]\n",
      " [0 0 1 0 0 1 0 0 1 0 0 1 1 0 0 1 0 0]\n",
      " [0 1 0 1 0 0 0 1 0 0 1 0 0 0 1 0 1 0]\n",
      " [0 1 0 1 0 0 0 1 0 0 0 1 0 0 1 1 0 0]\n",
      " [0 1 0 0 1 0 0 1 0 1 0 0 1 0 0 0 0 1]\n",
      " [1 0 0 0 0 1 1 0 0 0 0 1 1 0 0 0 0 1]\n",
      " [0 1 0 0 1 0 0 1 0 1 0 0 1 0 0 0 1 0]\n",
      " [1 0 0 0 0 1 0 1 0 0 1 0 1 0 0 0 0 1]\n",
      " [0 1 0 1 0 0 1 0 0 0 0 1 0 1 0 0 1 0]\n",
      " [0 1 0 0 1 0 0 0 1 0 0 1 0 1 0 0 1 0]\n",
      " [0 0 1 0 0 1 0 0 1 0 0 1 0 0 1 1 0 0]\n",
      " [1 0 0 0 0 1 1 0 0 0 1 0 1 0 0 1 0 0]\n",
      " [0 0 1 0 0 1 0 0 1 0 0 1 1 0 0 0 1 0]]\n"
     ]
    }
   ],
   "source": [
    "# lendo arquivo\n",
    "mt = pd.read_table(baseDados, delim_whitespace=True, dtype=\"str\", header=None);\n",
    "# pre-processando\n",
    "mtBinaria = pd.get_dummies(mt);\n",
    "dados = mtBinaria.astype('int').to_numpy();\n",
    "print(dados);"
   ]
  },
  {
   "cell_type": "markdown",
   "metadata": {},
   "source": [
    "# Pré-processamento RAs"
   ]
  },
  {
   "cell_type": "code",
   "execution_count": 82,
   "metadata": {},
   "outputs": [
    {
     "name": "stdout",
     "output_type": "stream",
     "text": [
      "                       AR  sup                   cnf                itemset  \\\n",
      "0                6 ==> 1    5     0.5555555555555556                 [6, 1]   \n",
      "1                1 ==> 6    5                    1.0                 [1, 6]   \n",
      "2                4 ==> 2    3                    1.0                 [4, 2]   \n",
      "3                2 ==> 4    3                    0.5                 [2, 4]   \n",
      "4                5 ==> 2    3                    1.0                 [5, 2]   \n",
      "...                   ...  ...                   ...                    ...   \n",
      "1369  15 ==> 3 6 9 12 16    1     0.3333333333333333  [15, 3, 6, 9, 12, 16]   \n",
      "1370  12 ==> 3 6 9 15 16    1                    0.1  [12, 3, 6, 9, 15, 16]   \n",
      "1371  9 ==> 3 6 12 15 16    1    0.16666666666666666  [9, 3, 6, 12, 15, 16]   \n",
      "1372  6 ==> 3 9 12 15 16    1     0.1111111111111111  [6, 3, 9, 12, 15, 16]   \n",
      "1373  3 ==> 6 9 12 15 16    1                   0.25  [3, 6, 9, 12, 15, 16]   \n",
      "\n",
      "      antc                cons  \n",
      "0      [6]                 [1]  \n",
      "1      [1]                 [6]  \n",
      "2      [4]                 [2]  \n",
      "3      [2]                 [4]  \n",
      "4      [5]                 [2]  \n",
      "...    ...                 ...  \n",
      "1369  [15]   [3, 6, 9, 12, 16]  \n",
      "1370  [12]   [3, 6, 9, 15, 16]  \n",
      "1371   [9]  [3, 6, 12, 15, 16]  \n",
      "1372   [6]  [3, 9, 12, 15, 16]  \n",
      "1373   [3]  [6, 9, 12, 15, 16]  \n",
      "\n",
      "[1374 rows x 6 columns]\n"
     ]
    }
   ],
   "source": [
    "regras = pd.read_table(baseRegras, sep=\"#\", names=(\"AR\", \"sup\", \"cnf\"));\n",
    "regras[\"sup\"] = regras[\"sup\"].str.replace(\"SUP:\", \"\");\n",
    "regras[\"cnf\"] = regras[\"cnf\"].str.replace(\"CONF:\", \"\");\n",
    "\n",
    "regras[\"itemset\"] = regras[\"AR\"].str.replace(\"==>\", \" \").str.split();\n",
    "\n",
    "regras[\"antc\"], regras[\"cons\"] =  regras[\"AR\"].str.split(\"==>\").str;\n",
    "regras[\"cons\"] = regras[\"cons\"].str.split();\n",
    "regras[\"antc\"] = regras[\"antc\"].str.split();\n",
    "\n",
    "\n",
    "\n",
    "print(regras);\n",
    "\n"
   ]
  },
  {
   "cell_type": "markdown",
   "metadata": {},
   "source": [
    "# Calculo de Suporte"
   ]
  },
  {
   "cell_type": "code",
   "execution_count": 116,
   "metadata": {},
   "outputs": [
    {
     "name": "stdout",
     "output_type": "stream",
     "text": [
      "0.13333333333333333\n"
     ]
    }
   ],
   "source": [
    "def calcSupp(antecedente, consequente):\n",
    "    itemset = list(antecedente) + list(consequente);\n",
    "    suporte = dados[:,itemset[0]-1]\n",
    "    \n",
    "    for i in itemset[1:]:\n",
    "        suporte *= dados[:,i-1];\n",
    "        \n",
    "    return np.sum(suporte, axis=0)/ dados.shape[0] ;\n",
    "\n",
    "\n",
    "print(calcSupp([12, 17, 14], [2]))\n",
    "\n",
    "\n",
    "\n",
    "#print(np.sum(dados[:,0]*dados[:,5]/dados.shape[0]))\n",
    "\n",
    "\n",
    "        \n",
    "    \n",
    "\n"
   ]
  },
  {
   "cell_type": "code",
   "execution_count": null,
   "metadata": {},
   "outputs": [],
   "source": []
  }
 ],
 "metadata": {
  "kernelspec": {
   "display_name": "Python 3",
   "language": "python",
   "name": "python3"
  },
  "language_info": {
   "codemirror_mode": {
    "name": "ipython",
    "version": 3
   },
   "file_extension": ".py",
   "mimetype": "text/x-python",
   "name": "python",
   "nbconvert_exporter": "python",
   "pygments_lexer": "ipython3",
   "version": "3.7.4"
  }
 },
 "nbformat": 4,
 "nbformat_minor": 2
}
